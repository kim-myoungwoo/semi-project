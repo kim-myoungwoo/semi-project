{
 "cells": [
  {
   "cell_type": "code",
   "execution_count": 1,
   "id": "64bbdf05",
   "metadata": {},
   "outputs": [],
   "source": [
    "# 1. 고령인구비율.xlsx에서 전국 기준 고령인구 비율을 추출한다.\n",
    "# 2. 전국 인구수 * 전국 기준 고령인구 비율 을 하여 전국 고령 인구수 데이터를 만든다.\n",
    "# 3. 전국 GRDP와 전국 경제성장률, 전국 경제활동인구 수, 전국 고령인구 수를 슬라이싱한다.\n",
    "# 4. 하나의 DataFrame으로 병합한다.\n",
    "# 5. DataFrame의 각 칼럼들의 인덱스를 맞춘다.\n",
    "# 6. 요소들을 표준화 한다.\n",
    "# 7. DataFrame의 nan값을 처리한다.\n",
    "# 8. (데이터 정규화를 한다..?)\n",
    "# 9. \n",
    "#  전국 GRDP와  전국 경제활동 인구 수를 나눈다.  ==> A\n",
    "#   전국 경제활동 인구수와 전국 고령인구 수를 나눈다. ==> B\n",
    "#   전국 경제성장률과 A 에 관한 그래프와  전국 경제 성장률과 B 에 관한 그래프를 만든다.\n",
    "#  적당?한 그래프를 만든다(최종 두개의 그래프를 비교하고 A와 B 칼럼중 어느 것이 경제 성장에 \n",
    "#                          더 큰 영향을 주는지 혹은 주지 않는지를 확인한다.)"
   ]
  },
  {
   "cell_type": "code",
   "execution_count": null,
   "id": "5ce9ccd3",
   "metadata": {},
   "outputs": [],
   "source": [
    "import pandas as pd\n",
    "import matplotlib.pylot as plt\n",
    "import seaborn as sns"
   ]
  }
 ],
 "metadata": {
  "kernelspec": {
   "display_name": "Python 3 (ipykernel)",
   "language": "python",
   "name": "python3"
  },
  "language_info": {
   "codemirror_mode": {
    "name": "ipython",
    "version": 3
   },
   "file_extension": ".py",
   "mimetype": "text/x-python",
   "name": "python",
   "nbconvert_exporter": "python",
   "pygments_lexer": "ipython3",
   "version": "3.9.13"
  }
 },
 "nbformat": 4,
 "nbformat_minor": 5
}
